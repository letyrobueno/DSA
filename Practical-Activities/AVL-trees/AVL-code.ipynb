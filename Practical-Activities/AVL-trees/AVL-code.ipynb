{
 "cells": [
  {
   "cell_type": "markdown",
   "metadata": {},
   "source": [
    "## AVL Trees"
   ]
  },
  {
   "cell_type": "markdown",
   "metadata": {},
   "source": [
    "First, we include all libraries that we need:"
   ]
  },
  {
   "cell_type": "code",
   "execution_count": 1,
   "metadata": {},
   "outputs": [],
   "source": [
    "#include<iostream>\n",
    "#include<string.h>\n",
    "#include<stdlib.h>"
   ]
  },
  {
   "cell_type": "markdown",
   "metadata": {},
   "source": [
    "We create a dynamic data structure for the binary tree:"
   ]
  },
  {
   "cell_type": "code",
   "execution_count": 2,
   "metadata": {},
   "outputs": [],
   "source": [
    "typedef struct Node *Pointer;\n",
    "\n",
    "typedef struct Node {\n",
    "    int key;\n",
    "    int bal; // hD(no)-hE(no)\n",
    "    Pointer left,right;\n",
    "    } NodeTree;"
   ]
  },
  {
   "cell_type": "markdown",
   "metadata": {},
   "source": [
    "Method to recursively insert a node into the AVL tree:"
   ]
  },
  {
   "cell_type": "code",
   "execution_count": 3,
   "metadata": {},
   "outputs": [],
   "source": [
    "NodeTree* insert(int key, NodeTree *p) {\n",
    "    if (p == NULL) {\n",
    "        std::cout << \"INSERTING: \"<< key << \"\\n\";\n",
    "        p = new NodeTree;\n",
    "        p->key = key;\n",
    "        p->left = NULL;\n",
    "        p->right = NULL;\n",
    "    } else if (key < p->key) {\n",
    "        p->left = insert(key, p->left);\n",
    "    } else if (key > p->key) {\n",
    "        p->right = insert(key, p->right);\n",
    "    } else std::cout << \"Error! Key already exists!\";\n",
    "    return p;\n",
    "}"
   ]
  },
  {
   "cell_type": "markdown",
   "metadata": {},
   "source": [
    "Method to recursively search a key inside the AVL tree:"
   ]
  },
  {
   "cell_type": "code",
   "execution_count": 4,
   "metadata": {},
   "outputs": [],
   "source": [
    "NodeTree* search(int key, NodeTree *p) {\n",
    "    if (p == NULL) {\n",
    "        return NULL;\n",
    "    } else if (key < p->key) {\n",
    "        return search(key, p->left);\n",
    "    } else if (key > p->key) {\n",
    "        return search(key, p->right);\n",
    "    } else\n",
    "    return p;\n",
    "}"
   ]
  },
  {
   "cell_type": "markdown",
   "metadata": {},
   "source": [
    "Method to recursively print the whole tree:"
   ]
  },
  {
   "cell_type": "code",
   "execution_count": 5,
   "metadata": {},
   "outputs": [],
   "source": [
    "void listParentAndChildren(NodeTree *p) {\n",
    "    if (p != NULL) {\n",
    "        int left = -1, right = -1;\n",
    "        if (p->left != NULL) {\n",
    "            left = p->left->key;\n",
    "        }\n",
    "        if (p->right != NULL) {\n",
    "            right = p->right->key;\n",
    "        }\n",
    "        std::cout << \"Parent: \" << p->key << \", left node: \" << left << \", right node: \" << right << \"\\n\";\n",
    "        listParentAndChildren(p->left); // it prints the left subtree\n",
    "        listParentAndChildren(p->right); // it prints the right subtree\n",
    "    }\n",
    "}"
   ]
  },
  {
   "cell_type": "code",
   "execution_count": 6,
   "metadata": {},
   "outputs": [],
   "source": [
    "// No comments here because it's up to you to understand this part of code\n",
    "NodeTree* case1(NodeTree *p) {\n",
    "    NodeTree *ptu = p->left;\n",
    "    if (ptu->bal == -1) {\n",
    "        p->left = ptu->right;\n",
    "        ptu->right = p;\n",
    "        p->bal = 0;\n",
    "        p = ptu;\n",
    "    } else {\n",
    "        NodeTree *ptv = ptu->right;\n",
    "        ptu->right = ptv->left;\n",
    "        ptv->left = ptu;\n",
    "        p->left = ptv->right;\n",
    "        ptv->right = p;\n",
    "        if (ptv->bal == -1) {\n",
    "            p->bal = 1;\n",
    "        } else {\n",
    "            p->bal = 0;\n",
    "        }\n",
    "        if (ptv->bal == 1) {\n",
    "            ptu->bal = -1;\n",
    "        } else {\n",
    "            ptu->bal = 0;\n",
    "        }\n",
    "        p = ptv;\n",
    "    }\n",
    "    p->bal = 0;\n",
    "    return p;\n",
    "}"
   ]
  },
  {
   "cell_type": "code",
   "execution_count": 7,
   "metadata": {},
   "outputs": [],
   "source": [
    "// No comments here because it's up to you to understand this part of code\n",
    "NodeTree* case2(NodeTree *p) {\n",
    "    NodeTree *ptu = p->right;\n",
    "\n",
    "    if (ptu->bal == 1) {\n",
    "        p->right = ptu->left;\n",
    "        ptu->left = p;\n",
    "        p->bal = 0;\n",
    "        p = ptu;\n",
    "    } else {\n",
    "        NodeTree *ptv = ptu->left;\n",
    "        ptu->left = ptv->right;\n",
    "        ptv->right = ptu;\n",
    "        p->right = ptv->left;\n",
    "        ptv->left = p;\n",
    "        if (ptv->bal == 1) {\n",
    "            p->bal = -1;\n",
    "        } else {\n",
    "            p->bal = 0;\n",
    "        }\n",
    "        if (ptv->bal == -1) {\n",
    "            ptu->bal = 1;\n",
    "        } else {\n",
    "            ptu->bal = 0;\n",
    "        }\n",
    "        p = ptv;\n",
    "    }\n",
    "    p->bal = 0;\n",
    "    return p;\n",
    "}"
   ]
  },
  {
   "cell_type": "markdown",
   "metadata": {},
   "source": [
    "**Exercise:** implement the procedure to remove a node from the AVL tree."
   ]
  },
  {
   "cell_type": "code",
   "execution_count": 8,
   "metadata": {},
   "outputs": [],
   "source": [
    "void remove(int key, NodeTree *p) {\n",
    "    \n",
    "}"
   ]
  },
  {
   "cell_type": "markdown",
   "metadata": {},
   "source": [
    "Starting the tree as a null pointer:"
   ]
  },
  {
   "cell_type": "code",
   "execution_count": 9,
   "metadata": {},
   "outputs": [],
   "source": [
    "NodeTree *root = NULL;"
   ]
  },
  {
   "cell_type": "markdown",
   "metadata": {},
   "source": [
    "Use the cell below to make more operations over the tree:"
   ]
  },
  {
   "cell_type": "code",
   "execution_count": 10,
   "metadata": {},
   "outputs": [
    {
     "name": "stdout",
     "output_type": "stream",
     "text": [
      "INSERTING: 23\n",
      "INSERTING: 12\n",
      "INSERTING: 70\n",
      "\n",
      "RESULTING TREE: \n",
      " \n",
      "Parent: 23, left node: 12, right node: 70\n",
      "Parent: 12, left node: -1, right node: -1\n",
      "Parent: 70, left node: -1, right node: -1\n"
     ]
    }
   ],
   "source": [
    "root = insert(23, root);\n",
    "root = insert(12, root);\n",
    "root = insert(70, root);\n",
    "std::cout << \"\\nRESULTING TREE: \\n \\n\";\n",
    "listParentAndChildren(root);"
   ]
  }
 ],
 "metadata": {
  "kernelspec": {
   "display_name": "C++14",
   "language": "C++14",
   "name": "xcpp14"
  },
  "language_info": {
   "codemirror_mode": "text/x-c++src",
   "file_extension": ".cpp",
   "mimetype": "text/x-c++src",
   "name": "c++",
   "version": "-std=c++14"
  }
 },
 "nbformat": 4,
 "nbformat_minor": 2
}
