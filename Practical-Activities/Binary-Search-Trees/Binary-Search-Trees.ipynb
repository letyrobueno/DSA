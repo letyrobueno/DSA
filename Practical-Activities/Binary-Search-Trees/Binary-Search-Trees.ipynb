{
 "cells": [
  {
   "cell_type": "markdown",
   "metadata": {},
   "source": [
    "## Binary Search Trees"
   ]
  },
  {
   "cell_type": "markdown",
   "metadata": {},
   "source": [
    "First, we include all libraries that we need:"
   ]
  },
  {
   "cell_type": "code",
   "execution_count": 1,
   "metadata": {},
   "outputs": [],
   "source": [
    "#include<iostream>\n",
    "#include<string.h>\n",
    "#include<stdlib.h>"
   ]
  },
  {
   "cell_type": "markdown",
   "metadata": {},
   "source": [
    "We create a data structure for the binary tree:"
   ]
  },
  {
   "cell_type": "code",
   "execution_count": 2,
   "metadata": {},
   "outputs": [],
   "source": [
    "typedef struct Node *Pointer;\n",
    "\n",
    "typedef struct Node {\n",
    "    int key;\n",
    "    Pointer right,left;\n",
    "} NodeTree;"
   ]
  },
  {
   "cell_type": "markdown",
   "metadata": {},
   "source": [
    "Method to recursively insert a node into the BST:"
   ]
  },
  {
   "cell_type": "code",
   "execution_count": 3,
   "metadata": {},
   "outputs": [],
   "source": [
    "NodeTree* insert(int key, Pointer p) {\n",
    "    if (p == NULL) {\n",
    "        std::cout << \"INSERTING: \"<< key << \"\\n\";\n",
    "        p = (Pointer) malloc(sizeof(NodeTree));\n",
    "        p->key = key;\n",
    "        p->left = NULL;\n",
    "        p->right = NULL;\n",
    "    } else if (key < p->key) {\n",
    "        p->left = insert(key, p->left);\n",
    "    } else if (key > p->key) {\n",
    "        p->right = insert(key, p->right);\n",
    "    } else std::cout << \"Error! Key already exists!\";\n",
    "    return p;\n",
    "}"
   ]
  },
  {
   "cell_type": "markdown",
   "metadata": {},
   "source": [
    "Method to recursively search a key inside the BST:"
   ]
  },
  {
   "cell_type": "code",
   "execution_count": 4,
   "metadata": {},
   "outputs": [],
   "source": [
    "NodeTree* search(int key, Pointer p) {\n",
    "    if (p == NULL) {\n",
    "        return NULL;\n",
    "    } else if (key < p->key) {\n",
    "        return search(key, p->left);\n",
    "    } else if (key > p->key) {\n",
    "        return search(key, p->right);\n",
    "    } else\n",
    "    return p;\n",
    "}"
   ]
  },
  {
   "cell_type": "markdown",
   "metadata": {},
   "source": [
    "Method to recursively print the whole tree:"
   ]
  },
  {
   "cell_type": "code",
   "execution_count": 5,
   "metadata": {},
   "outputs": [],
   "source": [
    "void listParentAndChildren(Pointer p) {\n",
    "    if (p != NULL) {\n",
    "        int left = -1, right = -1;\n",
    "        if (p->left != NULL) {\n",
    "            left = p->left->key;\n",
    "        }\n",
    "        if (p->right != NULL) {\n",
    "            right = p->right->key;\n",
    "        }\n",
    "        std::cout << \"Parent: \" << p->key << \", left node: \" << left << \", right node: \" << right << \"\\n\";\n",
    "        listParentAndChildren(p->left); // it prints the left subtree\n",
    "        listParentAndChildren(p->right); // it prints the right subtree\n",
    "    }\n",
    "}"
   ]
  },
  {
   "cell_type": "markdown",
   "metadata": {},
   "source": [
    "Method to list all keys in the BST using in-order traversal:"
   ]
  },
  {
   "cell_type": "code",
   "execution_count": 6,
   "metadata": {},
   "outputs": [],
   "source": [
    "void inOrder(Pointer p) {\n",
    "    if (p != NULL) {\n",
    "        inOrder(p->left);\n",
    "        std::cout << p->key << \"\\n\";\n",
    "        inOrder(p->right);\n",
    "    }\n",
    "}"
   ]
  },
  {
   "cell_type": "markdown",
   "metadata": {},
   "source": [
    "Method to list all keys in the BST using pre-order traversal:"
   ]
  },
  {
   "cell_type": "code",
   "execution_count": 7,
   "metadata": {},
   "outputs": [],
   "source": [
    "void preOrder(Pointer p) {\n",
    "    if (p != NULL) {\n",
    "        std::cout << p->key << \"\\n\";\n",
    "        preOrder(p->left);\n",
    "        preOrder(p->right);\n",
    "    }\n",
    "}"
   ]
  },
  {
   "cell_type": "markdown",
   "metadata": {},
   "source": [
    "Method to list all keys in the BST using post-order traversal:"
   ]
  },
  {
   "cell_type": "code",
   "execution_count": 8,
   "metadata": {},
   "outputs": [],
   "source": [
    "void postOrder(Pointer p) {\n",
    "    if (p != NULL) {\n",
    "        postOrder(p->left);\n",
    "        postOrder(p->right);\n",
    "        std::cout << p->key << \"\\n\";\n",
    "    }\n",
    "}"
   ]
  },
  {
   "cell_type": "markdown",
   "metadata": {},
   "source": [
    "Method to recursively calculate the height of the BST:"
   ]
  },
  {
   "cell_type": "code",
   "execution_count": 9,
   "metadata": {},
   "outputs": [],
   "source": [
    "int calculateHeight(Pointer p){ \n",
    "    if (p == NULL){\n",
    "        return 0;\n",
    "    } else {\n",
    "        int left = calculateHeight(p->left);\n",
    "        int right = calculateHeight(p->right);\n",
    "        if (left > right) return left+1;\n",
    "        else return right+1;\n",
    "    }\n",
    "}"
   ]
  },
  {
   "cell_type": "markdown",
   "metadata": {},
   "source": [
    "Starting the tree as a null pointer:"
   ]
  },
  {
   "cell_type": "code",
   "execution_count": 10,
   "metadata": {},
   "outputs": [],
   "source": [
    "Pointer root = NULL;"
   ]
  },
  {
   "cell_type": "markdown",
   "metadata": {},
   "source": [
    "Let's try inserting some nodes into the tree:"
   ]
  },
  {
   "cell_type": "code",
   "execution_count": 13,
   "metadata": {},
   "outputs": [
    {
     "name": "stdout",
     "output_type": "stream",
     "text": [
      "INSERTING: 23\n",
      "INSERTING: 12\n",
      "INSERTING: 70\n",
      "\n",
      "RESULTING TREE: \n",
      "Parent: 23, left node: 12, right node: 70\n",
      "Parent: 12, left node: -1, right node: -1\n",
      "Parent: 70, left node: -1, right node: -1\n",
      "\n",
      "IN-ORDER TRAVERSAL: \n",
      "12\n",
      "23\n",
      "70\n",
      "\n",
      "PRE-ORDER TRAVERSAL: \n",
      "23\n",
      "12\n",
      "70\n",
      "\n",
      "POST-ORDER TRAVERSAL: \n",
      "12\n",
      "70\n",
      "23\n"
     ]
    }
   ],
   "source": [
    "root = insert(23, root);\n",
    "root = insert(12, root);\n",
    "root = insert(70, root);\n",
    "std::cout << \"\\nRESULTING TREE: \\n\";\n",
    "listParentAndChildren(root);\n",
    "std::cout << \"\\nIN-ORDER TRAVERSAL: \\n\";\n",
    "inOrder(root);\n",
    "std::cout << \"\\nPRE-ORDER TRAVERSAL: \\n\";\n",
    "preOrder(root);\n",
    "std::cout << \"\\nPOST-ORDER TRAVERSAL: \\n\";\n",
    "postOrder(root);"
   ]
  },
  {
   "cell_type": "markdown",
   "metadata": {},
   "source": [
    "Use the cell below to make more operations over the tree:"
   ]
  },
  {
   "cell_type": "code",
   "execution_count": 14,
   "metadata": {},
   "outputs": [
    {
     "name": "stdout",
     "output_type": "stream",
     "text": [
      "INSERTING: 5\n",
      "\n",
      "RESULTING TREE: \n",
      "Parent: 23, left node: 12, right node: 70\n",
      "Parent: 12, left node: 5, right node: -1\n",
      "Parent: 5, left node: -1, right node: -1\n",
      "Parent: 70, left node: -1, right node: -1\n",
      "\n",
      "IN-ORDER TRAVERSAL: \n",
      "5\n",
      "12\n",
      "23\n",
      "70\n",
      "\n",
      "PRE-ORDER TRAVERSAL: \n",
      "23\n",
      "12\n",
      "5\n",
      "70\n",
      "\n",
      "POST-ORDER TRAVERSAL: \n",
      "5\n",
      "12\n",
      "70\n",
      "23\n"
     ]
    }
   ],
   "source": [
    "root = insert(5, root);\n",
    "std::cout << \"\\nRESULTING TREE: \\n\";\n",
    "listParentAndChildren(root);\n",
    "std::cout << \"\\nIN-ORDER TRAVERSAL: \\n\";\n",
    "inOrder(root);\n",
    "std::cout << \"\\nPRE-ORDER TRAVERSAL: \\n\";\n",
    "preOrder(root);\n",
    "std::cout << \"\\nPOST-ORDER TRAVERSAL: \\n\";\n",
    "postOrder(root);"
   ]
  }
 ],
 "metadata": {
  "kernelspec": {
   "display_name": "C++14",
   "language": "C++14",
   "name": "xcpp14"
  },
  "language_info": {
   "codemirror_mode": "text/x-c++src",
   "file_extension": ".cpp",
   "mimetype": "text/x-c++src",
   "name": "c++",
   "version": "-std=c++14"
  }
 },
 "nbformat": 4,
 "nbformat_minor": 2
}
