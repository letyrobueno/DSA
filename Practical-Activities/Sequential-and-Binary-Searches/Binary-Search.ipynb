{
 "cells": [
  {
   "cell_type": "markdown",
   "metadata": {},
   "source": [
    "## Recursive Binary Search\n",
    "<p>Parameters:</p>\n",
    "<ul>\n",
    "    <li> v: list with the elements (passed by reference)</li>\n",
    "    <li> ini: first position to look</li>\n",
    "    <li> end: last position to look</li>\n",
    "    <li> elem: element to search</li>\n",
    "</ul>"
   ]
  },
  {
   "cell_type": "code",
   "execution_count": 1,
   "metadata": {},
   "outputs": [],
   "source": [
    "#include <iostream> // including standard C++ input/output library file\n",
    "\n",
    "int BinSearchRec(int v[], int ini, int end, int elem) {\n",
    "    while (ini <= end) {\n",
    "        int meio;\n",
    "        meio = (ini + end)/2;\n",
    "        if (v[meio] == elem){\n",
    "            return meio;\n",
    "        } else if (v[meio] < elem) {\n",
    "            return BinSearchRec(v, meio+1, end, elem);\n",
    "        } else {\n",
    "            return BinSearchRec(v, ini, meio-1, elem);\n",
    "        }\n",
    "    }\n",
    "    return -1;\n",
    "}"
   ]
  },
  {
   "cell_type": "code",
   "execution_count": 2,
   "metadata": {},
   "outputs": [],
   "source": [
    "int v[10] = {1,3,5,7,9,11,13,15,17,19};\n",
    "int found, x;"
   ]
  },
  {
   "cell_type": "code",
   "execution_count": 4,
   "metadata": {},
   "outputs": [
    {
     "name": "stdout",
     "output_type": "stream",
     "text": [
      "Enter the element to search: 2\n",
      "Element not in the list \n"
     ]
    }
   ],
   "source": [
    "std::cout << \"Enter the element to search: \";\n",
    "std::cin >> x;\n",
    "found = BinSearchRec(v,0,9,x);\n",
    "\n",
    "if (found == -1) std::cout << \"Element not in the list \" << std::endl;\n",
    "else std::cout << \"Element in the position \" << found + 1 << std::endl;"
   ]
  }
 ],
 "metadata": {
  "kernelspec": {
   "display_name": "C++14",
   "language": "C++14",
   "name": "xcpp14"
  },
  "language_info": {
   "codemirror_mode": "text/x-c++src",
   "file_extension": ".cpp",
   "mimetype": "text/x-c++src",
   "name": "c++",
   "version": "-std=c++14"
  }
 },
 "nbformat": 4,
 "nbformat_minor": 2
}
