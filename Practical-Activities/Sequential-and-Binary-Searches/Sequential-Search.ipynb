{
 "cells": [
  {
   "cell_type": "code",
   "execution_count": 1,
   "metadata": {},
   "outputs": [
    {
     "name": "stderr",
     "output_type": "stream",
     "text": [
      "input_line_7:2:2: error: expected expression\n",
      " ## Recursive Sequential/Linear Search\n",
      " ^\n"
     ]
    },
    {
     "ename": "Interpreter Error",
     "evalue": "",
     "output_type": "error",
     "traceback": [
      "Interpreter Error: "
     ]
    }
   ],
   "source": [
    "## Recursive Sequential/Linear Search\n",
    "Parameters:\n",
    "        n: size of the array\n",
    "        v: list with the elements (passed by reference)\n",
    "        x: element to search"
   ]
  },
  {
   "cell_type": "code",
   "execution_count": 2,
   "metadata": {},
   "outputs": [],
   "source": [
    "#include <iostream> // including standard C++ input/output library file\n",
    "\n",
    "int SeqSearchRec(int n, int v[], int x) {\n",
    "    if (n==0) {\n",
    "        return -1;\n",
    "    } else if (x==v[n-1]) {\n",
    "        return n-1;\n",
    "    } else {\n",
    "        return SeqSearchRec(n-1, v, x);\n",
    "    }\n",
    "}"
   ]
  },
  {
   "cell_type": "code",
   "execution_count": 3,
   "metadata": {},
   "outputs": [],
   "source": [
    "int vector[10] = {1,3,5,7,9,11,13,15,17,19};\n",
    "int found, x;"
   ]
  },
  {
   "cell_type": "code",
   "execution_count": 4,
   "metadata": {},
   "outputs": [
    {
     "name": "stdout",
     "output_type": "stream",
     "text": [
      "Enter the element to search: 13\n",
      "Element in the position 7\n"
     ]
    }
   ],
   "source": [
    "found=-1;\n",
    "\n",
    "std::cout << \"Enter the element to search: \";\n",
    "std::cin >> x;\n",
    "found = SeqSearchRec(10,vector,x);\n",
    "\n",
    "if (found==-1) std::cout << \"Element is not in the list \" << std::endl;\n",
    "else std::cout << \"Element in the position \" << found+1 << std::endl;"
   ]
  }
 ],
 "metadata": {
  "kernelspec": {
   "display_name": "C++14",
   "language": "C++14",
   "name": "xcpp14"
  },
  "language_info": {
   "codemirror_mode": "text/x-c++src",
   "file_extension": ".cpp",
   "mimetype": "text/x-c++src",
   "name": "c++",
   "version": "-std=c++14"
  }
 },
 "nbformat": 4,
 "nbformat_minor": 2
}
